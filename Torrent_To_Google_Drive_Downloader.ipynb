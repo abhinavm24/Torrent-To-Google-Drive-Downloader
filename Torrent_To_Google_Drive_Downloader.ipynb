{
  "nbformat": 4,
  "nbformat_minor": 0,
  "metadata": {
    "colab": {
      "name": "Torrent To Google Drive Downloader",
      "version": "0.3.2",
      "provenance": [],
      "collapsed_sections": [],
      "include_colab_link": true
    },
    "kernelspec": {
      "display_name": "Python 3",
      "language": "python",
      "name": "python3"
    }
  },
  "cells": [
    {
      "cell_type": "markdown",
      "metadata": {
        "id": "view-in-github",
        "colab_type": "text"
      },
      "source": [
        "<a href=\"https://colab.research.google.com/github/abhinavm24/Torrent-To-Google-Drive-Downloader/blob/master/Torrent_To_Google_Drive_Downloader.ipynb\" target=\"_parent\"><img src=\"https://colab.research.google.com/assets/colab-badge.svg\" alt=\"Open In Colab\"/></a>"
      ]
    },
    {
      "metadata": {
        "id": "aQuWDmfm9YOi",
        "colab_type": "text"
      },
      "cell_type": "markdown",
      "source": [
        "# Torrent To Google Drive Downloader "
      ]
    },
    {
      "metadata": {
        "id": "Uf90U73y9YOj",
        "colab_type": "text"
      },
      "cell_type": "markdown",
      "source": [
        "### Mount Google Drive\n",
        "To stream files we need to mount Google Drive."
      ]
    },
    {
      "metadata": {
        "id": "psXq2L9ACLp-",
        "colab_type": "code",
        "colab": {
          "base_uri": "https://localhost:8080/",
          "height": 34
        },
        "outputId": "cf022a17-abd4-445c-91fa-9f47099782c3"
      },
      "cell_type": "code",
      "source": [
        ""
      ],
      "execution_count": 1,
      "outputs": [
        {
          "output_type": "stream",
          "text": [
            "sample_data\n"
          ],
          "name": "stdout"
        }
      ]
    },
    {
      "metadata": {
        "colab_type": "code",
        "id": "oWM9l2fvtuvO",
        "colab": {
          "base_uri": "https://localhost:8080/",
          "height": 34
        },
        "outputId": "fee534a7-9c39-4e4a-ca69-391ec6750579"
      },
      "cell_type": "code",
      "source": [
        "from google.colab import drive\n",
        "drive.mount('/content/drive')"
      ],
      "execution_count": 2,
      "outputs": [
        {
          "output_type": "stream",
          "text": [
            "Mounted at /content/drive\n"
          ],
          "name": "stdout"
        }
      ]
    },
    {
      "metadata": {
        "id": "7nSewOtfzxxH",
        "colab_type": "code",
        "colab": {}
      },
      "cell_type": "code",
      "source": [
        "import os\n",
        "os.chdir(\"/content/drive/My Drive/Movies/\")"
      ],
      "execution_count": 0,
      "outputs": []
    },
    {
      "metadata": {
        "id": "BXNnzoBIzy2X",
        "colab_type": "code",
        "colab": {
          "base_uri": "https://localhost:8080/",
          "height": 238
        },
        "outputId": "7690e573-34d4-4bc1-94d4-e5ae4c67852d"
      },
      "cell_type": "code",
      "source": [
        "!ls"
      ],
      "execution_count": 12,
      "outputs": [
        {
          "output_type": "stream",
          "text": [
            "'A Million Ways to Die in the West (2014) 1080p BrRip x264 - YIFY'\n",
            "'Ant-Man And The Wasp (2018) [BluRay] [1080p] [YTS.AM]'\n",
            " Friends.Complete.Series.720p.BluRay.2CH.x265.HEVC-PSA\n",
            " GOT\n",
            " Lucifer\n",
            "'Mirage 2018'\n",
            " Ozark\n",
            " Paradox_2016.avi\n",
            " Ralph.Breaks.The.Internet.2018.1080p.WEBRip.x264-MP4\n",
            " TED\n",
            "'The Godfather'\n",
            "'we re the millers 2013 extended 1080p brrip x264 yify'\n",
            " Westworld\n"
          ],
          "name": "stdout"
        }
      ]
    },
    {
      "metadata": {
        "id": "R_1XuuIf9YOn",
        "colab_type": "text"
      },
      "cell_type": "markdown",
      "source": [
        "### Upload Your Torrent File"
      ]
    },
    {
      "metadata": {
        "colab_type": "code",
        "id": "0et2A6N3udA0",
        "colab": {}
      },
      "cell_type": "code",
      "source": [
        "from google.colab import files\n",
        "uploaded = files.upload()"
      ],
      "execution_count": 0,
      "outputs": []
    },
    {
      "metadata": {
        "id": "NaFa7M-e9YOr",
        "colab_type": "text"
      },
      "cell_type": "markdown",
      "source": [
        "### Install libtorrent"
      ]
    },
    {
      "metadata": {
        "colab_type": "code",
        "id": "m6hF0emftx4h",
        "colab": {
          "base_uri": "https://localhost:8080/",
          "height": 493
        },
        "outputId": "572110ac-9f97-4b3e-803b-e8e2fb417535"
      },
      "cell_type": "code",
      "source": [
        "!apt install python3-libtorrent"
      ],
      "execution_count": 5,
      "outputs": [
        {
          "output_type": "stream",
          "text": [
            "Reading package lists... Done\n",
            "Building dependency tree       \n",
            "Reading state information... Done\n",
            "The following package was automatically installed and is no longer required:\n",
            "  libnvidia-common-410\n",
            "Use 'apt autoremove' to remove it.\n",
            "The following additional packages will be installed:\n",
            "  libtorrent-rasterbar9\n",
            "Suggested packages:\n",
            "  libtorrent-rasterbar-dbg\n",
            "The following NEW packages will be installed:\n",
            "  libtorrent-rasterbar9 python3-libtorrent\n",
            "0 upgraded, 2 newly installed, 0 to remove and 6 not upgraded.\n",
            "Need to get 1,569 kB of archives.\n",
            "After this operation, 5,718 kB of additional disk space will be used.\n",
            "Get:1 http://archive.ubuntu.com/ubuntu bionic/universe amd64 libtorrent-rasterbar9 amd64 1.1.5-1build1 [1,258 kB]\n",
            "Get:2 http://archive.ubuntu.com/ubuntu bionic/universe amd64 python3-libtorrent amd64 1.1.5-1build1 [310 kB]\n",
            "Fetched 1,569 kB in 2s (1,041 kB/s)\n",
            "Selecting previously unselected package libtorrent-rasterbar9.\n",
            "(Reading database ... 131304 files and directories currently installed.)\n",
            "Preparing to unpack .../libtorrent-rasterbar9_1.1.5-1build1_amd64.deb ...\n",
            "Unpacking libtorrent-rasterbar9 (1.1.5-1build1) ...\n",
            "Selecting previously unselected package python3-libtorrent.\n",
            "Preparing to unpack .../python3-libtorrent_1.1.5-1build1_amd64.deb ...\n",
            "Unpacking python3-libtorrent (1.1.5-1build1) ...\n",
            "Setting up libtorrent-rasterbar9 (1.1.5-1build1) ...\n",
            "Setting up python3-libtorrent (1.1.5-1build1) ...\n",
            "Processing triggers for libc-bin (2.27-3ubuntu1) ...\n"
          ],
          "name": "stdout"
        }
      ]
    },
    {
      "metadata": {
        "id": "m-a1CUP39YOu",
        "colab_type": "text"
      },
      "cell_type": "markdown",
      "source": [
        "### Start Download\n",
        "Source: https://stackoverflow.com/a/5494823/7957705"
      ]
    },
    {
      "metadata": {
        "colab_type": "code",
        "id": "aJUNOnHtz4lM",
        "colab": {}
      },
      "cell_type": "code",
      "source": [
        "import libtorrent as lt\n",
        "import time\n",
        "import sys\n",
        "\n",
        "ses = lt.session()\n",
        "ses.listen_on(6881, 6891)\n"
      ],
      "execution_count": 0,
      "outputs": []
    },
    {
      "metadata": {
        "id": "y4TlpLFKyQL4",
        "colab_type": "text"
      },
      "cell_type": "markdown",
      "source": [
        "**Download with torrent file**"
      ]
    },
    {
      "metadata": {
        "id": "Tc2qo41IyPbA",
        "colab_type": "code",
        "colab": {}
      },
      "cell_type": "code",
      "source": [
        "info = lt.torrent_info(list(uploaded.keys())[0])\n",
        "h = ses.add_torrent({\"ti\": info, \"save_path\": \"/content/drive/My Drive/Torrent\"})\n",
        "print(\"starting\", h.name())\n",
        "\n",
        "while not h.is_seed():\n",
        "    s = h.status()\n",
        "\n",
        "    state_str = [\n",
        "        \"queued\",\n",
        "        \"checking\",\n",
        "        \"downloading metadata\",\n",
        "        \"downloading\",\n",
        "        \"finished\",\n",
        "        \"seeding\",\n",
        "        \"allocating\",\n",
        "        \"checking fastresume\",\n",
        "    ]\n",
        "    print(\n",
        "        \"\\r%.2f%% complete (down: %.1f kb/s up: %.1f kB/s peers: %d) %s\"\n",
        "        % (\n",
        "            s.progress * 100,\n",
        "            s.download_rate / 1000,\n",
        "            s.upload_rate / 1000,\n",
        "            s.num_peers,\n",
        "            state_str[s.state],\n",
        "        )\n",
        "    )\n",
        "    sys.stdout.flush()\n",
        "    time.sleep(5)\n",
        "\n",
        "print(h.name(), \"complete\")"
      ],
      "execution_count": 0,
      "outputs": []
    },
    {
      "metadata": {
        "id": "1sXb7o10yKQm",
        "colab_type": "text"
      },
      "cell_type": "markdown",
      "source": [
        "**Download with magnet link**"
      ]
    },
    {
      "metadata": {
        "id": "il-PDANSyJ2Z",
        "colab_type": "code",
        "colab": {}
      },
      "cell_type": "code",
      "source": [
        "link = \"\"\n",
        "\n",
        "params = {\n",
        "    'save_path': '/content/drive/My Drive/Torrent',\n",
        "    'storage_mode': lt.storage_mode_t(2),\n",
        "    'paused': False,\n",
        "    'auto_managed': True,\n",
        "    'duplicate_is_error': True}\n",
        "\n",
        "\n",
        "handle = lt.add_magnet_uri(ses, link, params)\n",
        "ses.start_dht()\n"
      ],
      "execution_count": 0,
      "outputs": []
    },
    {
      "metadata": {
        "id": "dMQHJjvS0P02",
        "colab_type": "text"
      },
      "cell_type": "markdown",
      "source": [
        "**Download metadata**"
      ]
    },
    {
      "metadata": {
        "id": "4Le_VHgbzMbX",
        "colab_type": "code",
        "colab": {
          "base_uri": "https://localhost:8080/",
          "height": 34
        },
        "outputId": "8610b632-9233-404a-b666-bf84fc8882b9"
      },
      "cell_type": "code",
      "source": [
        "print('downloading metadata...')\n",
        "while (not handle.has_metadata()):\n",
        "    time.sleep(1)"
      ],
      "execution_count": 8,
      "outputs": [
        {
          "output_type": "stream",
          "text": [
            "downloading metadata...\n"
          ],
          "name": "stdout"
        }
      ]
    },
    {
      "metadata": {
        "id": "EE19-v0w0UE7",
        "colab_type": "text"
      },
      "cell_type": "markdown",
      "source": [
        "**Download torrent!**"
      ]
    },
    {
      "metadata": {
        "id": "HnvBQS7tzH9S",
        "colab_type": "code",
        "colab": {}
      },
      "cell_type": "code",
      "source": [
        "print(\"starting\", handle.name())\n",
        "while (handle.status().state != lt.torrent_status.seeding):\n",
        "    s = handle.status()\n",
        "    state_str = ['queued', 'checking', 'downloading metadata', \\\n",
        "                'downloading', 'finished', 'seeding', 'allocating']\n",
        "    \n",
        "    \n",
        "    print(\n",
        "        \"\\r%.2f%% complete (down: %.1f kb/s up: %.1f kB/s peers: %d) %s\"\n",
        "        % (\n",
        "            s.progress * 100,\n",
        "            s.download_rate / 1000,\n",
        "            s.upload_rate / 1000,\n",
        "            s.num_peers,\n",
        "            state_str[s.state],\n",
        "        )\n",
        "    )\n",
        "    sys.stdout.flush()\n",
        "    time.sleep(5)\n",
        "\n",
        "print(handle.name(), \"complete\")"
      ],
      "execution_count": 0,
      "outputs": []
    },
    {
      "metadata": {
        "id": "O_KwG9QeNOoR",
        "colab_type": "text"
      },
      "cell_type": "markdown",
      "source": [
        "# **Torrent loop**"
      ]
    },
    {
      "metadata": {
        "id": "DAhpgbZ3MskQ",
        "colab_type": "code",
        "colab": {}
      },
      "cell_type": "code",
      "source": [
        "def torrent_link(link):\n",
        "  \n",
        "    params = {\n",
        "      'save_path': '/content/drive/My Drive/Torrent',\n",
        "      'storage_mode': lt.storage_mode_t(2),\n",
        "      'paused': False,\n",
        "      'auto_managed': True,\n",
        "      'duplicate_is_error': True}\n",
        "    handle = lt.add_magnet_uri(ses, link, params)\n",
        "    ses.start_dht()\n",
        "    \n",
        "    print('downloading metadata...')\n",
        "    while (not handle.has_metadata()):\n",
        "        time.sleep(1)\n",
        "    \n",
        "    print(\"starting\", handle.name())\n",
        "    while (handle.status().state != lt.torrent_status.seeding):\n",
        "        s = handle.status()\n",
        "        state_str = ['queued', 'checking', 'downloading metadata', \\\n",
        "                    'downloading', 'finished', 'seeding', 'allocating']\n",
        "\n",
        "\n",
        "        print(\n",
        "            \"\\r%.2f%% complete (down: %.1f kb/s up: %.1f kB/s peers: %d) %s\"\n",
        "            % (\n",
        "                s.progress * 100,\n",
        "                s.download_rate / 1000,\n",
        "                s.upload_rate / 1000,\n",
        "                s.num_peers,\n",
        "                state_str[s.state],\n",
        "            )\n",
        "        )\n",
        "        sys.stdout.flush()\n",
        "        time.sleep(5)\n",
        "\n",
        "    print(handle.name(), \"complete\")\n"
      ],
      "execution_count": 0,
      "outputs": []
    },
    {
      "metadata": {
        "id": "e27bYdUAzOG6",
        "colab_type": "code",
        "colab": {}
      },
      "cell_type": "code",
      "source": [
        "for i in [\"magnet:?xt=urn:btih:b6e82665ef588bb6574db1f9780a0279274f407d&dn=Aquaman.2018.1080p.WEBRip.x264-MP4&tr=udp%3A%2F%2Ftracker.leechers-paradise.org%3A6969&tr=udp%3A%2F%2Ftracker.openbittorrent.com%3A80&tr=udp%3A%2F%2Fopen.demonii.com%3A1337&tr=udp%3A%2F%2Ftracker.coppersurfer.tk%3A6969&tr=udp%3A%2F%2Fexodus.desync.com%3A6969\",\n",
        "         \"magnet:?xt=urn:btih:e371a905f5def9162dea8418daa26623f956972a&dn=How.To.Train.Your.Dragon.The.Hidden.World.2019.1080p.BRRip.x264-&tr=udp%3A%2F%2Ftracker.leechers-paradise.org%3A6969&tr=udp%3A%2F%2Ftracker.openbittorrent.com%3A80&tr=udp%3A%2F%2Fopen.demonii.com%3A1337&tr=udp%3A%2F%2Ftracker.coppersurfer.tk%3A6969&tr=udp%3A%2F%2Fexodus.desync.com%3A6969\",\n",
        "         \"magnet:?xt=urn:btih:d55dbe69b24071b7661ed886a77136ca7278d065&dn=Bumblebee.2018.1080p.BRRip.x264-MP4&tr=udp%3A%2F%2Ftracker.leechers-paradise.org%3A6969&tr=udp%3A%2F%2Ftracker.openbittorrent.com%3A80&tr=udp%3A%2F%2Fopen.demonii.com%3A1337&tr=udp%3A%2F%2Ftracker.coppersurfer.tk%3A6969&tr=udp%3A%2F%2Fexodus.desync.com%3A6969\",\n",
        "         ]:\n",
        "    torrent_link(i)\n",
        "\n"
      ],
      "execution_count": 0,
      "outputs": []
    },
    {
      "metadata": {
        "id": "AmWHLo-hNJ-m",
        "colab_type": "code",
        "colab": {}
      },
      "cell_type": "code",
      "source": [
        ""
      ],
      "execution_count": 0,
      "outputs": []
    }
  ]
}